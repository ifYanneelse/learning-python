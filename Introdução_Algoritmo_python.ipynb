{
  "nbformat": 4,
  "nbformat_minor": 0,
  "metadata": {
    "colab": {
      "provenance": []
    },
    "kernelspec": {
      "name": "python3",
      "display_name": "Python 3"
    },
    "language_info": {
      "name": "python"
    }
  },
  "cells": [
    {
      "cell_type": "markdown",
      "source": [
        "#Primeira aula - 20.03.2024"
      ],
      "metadata": {
        "id": "QcvOADesJf8y"
      }
    },
    {
      "cell_type": "code",
      "execution_count": null,
      "metadata": {
        "colab": {
          "base_uri": "https://localhost:8080/"
        },
        "id": "VCiuKr-x33yM",
        "outputId": "75f44308-344c-4bc9-b636-b856a124f498"
      },
      "outputs": [
        {
          "output_type": "execute_result",
          "data": {
            "text/plain": [
              "7"
            ]
          },
          "metadata": {},
          "execution_count": 1
        }
      ],
      "source": [
        "2+5"
      ]
    },
    {
      "cell_type": "code",
      "source": [
        "print(\"Oi\")"
      ],
      "metadata": {
        "colab": {
          "base_uri": "https://localhost:8080/"
        },
        "id": "wH84Utko47iB",
        "outputId": "1f58fff9-c34e-4490-d160-5350b02a8827"
      },
      "execution_count": null,
      "outputs": [
        {
          "output_type": "stream",
          "name": "stdout",
          "text": [
            "Oi\n"
          ]
        }
      ]
    },
    {
      "cell_type": "code",
      "source": [
        "print('Oi')"
      ],
      "metadata": {
        "colab": {
          "base_uri": "https://localhost:8080/"
        },
        "id": "RdjNlSRr5I8o",
        "outputId": "f32db539-2372-4fa8-db3f-02a2f43ea32a"
      },
      "execution_count": null,
      "outputs": [
        {
          "output_type": "stream",
          "name": "stdout",
          "text": [
            "Oi\n"
          ]
        }
      ]
    },
    {
      "cell_type": "code",
      "source": [
        "print(\"Alô mundo\")"
      ],
      "metadata": {
        "colab": {
          "base_uri": "https://localhost:8080/"
        },
        "id": "65hlF6fP5qav",
        "outputId": "1d074bcb-9f74-4c56-d624-fa39ea9fbf3a"
      },
      "execution_count": null,
      "outputs": [
        {
          "output_type": "stream",
          "name": "stdout",
          "text": [
            "Alô mundo\n"
          ]
        }
      ]
    },
    {
      "cell_type": "code",
      "source": [
        "3+1"
      ],
      "metadata": {
        "colab": {
          "base_uri": "https://localhost:8080/"
        },
        "id": "5eNt65jM5st3",
        "outputId": "39f344d8-26f0-47ed-b8b2-ff912f0ed295"
      },
      "execution_count": null,
      "outputs": [
        {
          "output_type": "execute_result",
          "data": {
            "text/plain": [
              "4"
            ]
          },
          "metadata": {},
          "execution_count": 6
        }
      ]
    },
    {
      "cell_type": "code",
      "source": [
        "3"
      ],
      "metadata": {
        "colab": {
          "base_uri": "https://localhost:8080/"
        },
        "id": "K0dzGykO5yeA",
        "outputId": "99aa5d8f-48eb-40a6-d55f-b2b0ca7475a1"
      },
      "execution_count": null,
      "outputs": [
        {
          "output_type": "execute_result",
          "data": {
            "text/plain": [
              "3"
            ]
          },
          "metadata": {},
          "execution_count": 7
        }
      ]
    },
    {
      "cell_type": "code",
      "source": [
        "4**-1"
      ],
      "metadata": {
        "colab": {
          "base_uri": "https://localhost:8080/"
        },
        "id": "YzYFiaut50H4",
        "outputId": "fb0994dd-48a9-4d59-c777-16f50d9475aa"
      },
      "execution_count": null,
      "outputs": [
        {
          "output_type": "execute_result",
          "data": {
            "text/plain": [
              "0.25"
            ]
          },
          "metadata": {},
          "execution_count": 8
        }
      ]
    },
    {
      "cell_type": "code",
      "source": [
        "x=5"
      ],
      "metadata": {
        "id": "_YZzJQFY7Uz-"
      },
      "execution_count": null,
      "outputs": []
    },
    {
      "cell_type": "code",
      "source": [
        "type(x)"
      ],
      "metadata": {
        "colab": {
          "base_uri": "https://localhost:8080/"
        },
        "id": "CIHCOI3E7YIm",
        "outputId": "77c55d52-91c3-4971-a242-57c3ffea20e5"
      },
      "execution_count": null,
      "outputs": [
        {
          "output_type": "execute_result",
          "data": {
            "text/plain": [
              "int"
            ]
          },
          "metadata": {},
          "execution_count": 10
        }
      ]
    },
    {
      "cell_type": "code",
      "source": [
        "p = True"
      ],
      "metadata": {
        "id": "tdCKxmYM7aDm"
      },
      "execution_count": null,
      "outputs": []
    },
    {
      "cell_type": "code",
      "source": [
        "q = False"
      ],
      "metadata": {
        "id": "D8X8LPXi7b_O"
      },
      "execution_count": null,
      "outputs": []
    },
    {
      "cell_type": "code",
      "source": [
        "x = p and q"
      ],
      "metadata": {
        "id": "erzjFOE17dKl"
      },
      "execution_count": null,
      "outputs": []
    },
    {
      "cell_type": "code",
      "source": [
        "y = p or q"
      ],
      "metadata": {
        "id": "WlATU0Re7h-T"
      },
      "execution_count": null,
      "outputs": []
    },
    {
      "cell_type": "code",
      "source": [
        "x"
      ],
      "metadata": {
        "colab": {
          "base_uri": "https://localhost:8080/"
        },
        "id": "B72MNXm17lVz",
        "outputId": "e800c475-2f8b-491f-b28a-e72ce31c785a"
      },
      "execution_count": null,
      "outputs": [
        {
          "output_type": "execute_result",
          "data": {
            "text/plain": [
              "False"
            ]
          },
          "metadata": {},
          "execution_count": 15
        }
      ]
    },
    {
      "cell_type": "code",
      "source": [
        "y"
      ],
      "metadata": {
        "colab": {
          "base_uri": "https://localhost:8080/"
        },
        "id": "R0JHhh9v7oL7",
        "outputId": "7253ca01-ab1e-4408-d058-77004a511931"
      },
      "execution_count": null,
      "outputs": [
        {
          "output_type": "execute_result",
          "data": {
            "text/plain": [
              "True"
            ]
          },
          "metadata": {},
          "execution_count": 16
        }
      ]
    },
    {
      "cell_type": "code",
      "source": [
        "z = not(p and q)"
      ],
      "metadata": {
        "id": "cDO__hCv7rwr"
      },
      "execution_count": null,
      "outputs": []
    },
    {
      "cell_type": "code",
      "source": [
        "z"
      ],
      "metadata": {
        "colab": {
          "base_uri": "https://localhost:8080/"
        },
        "id": "dwwANYPU715k",
        "outputId": "4f952b93-44ea-49da-e298-d1d0a93e5e5a"
      },
      "execution_count": null,
      "outputs": [
        {
          "output_type": "execute_result",
          "data": {
            "text/plain": [
              "True"
            ]
          },
          "metadata": {},
          "execution_count": 18
        }
      ]
    },
    {
      "cell_type": "code",
      "source": [
        "x = 3\n",
        "y = 5.6\n",
        "z = \"456\""
      ],
      "metadata": {
        "id": "0wT09VvQ89kY"
      },
      "execution_count": null,
      "outputs": []
    },
    {
      "cell_type": "code",
      "source": [
        "type(x)"
      ],
      "metadata": {
        "colab": {
          "base_uri": "https://localhost:8080/"
        },
        "id": "Iw0EBrLw9Lpn",
        "outputId": "6f2ab864-3c96-4490-ac39-f49b31bd8ca7"
      },
      "execution_count": null,
      "outputs": [
        {
          "output_type": "execute_result",
          "data": {
            "text/plain": [
              "int"
            ]
          },
          "metadata": {},
          "execution_count": 20
        }
      ]
    },
    {
      "cell_type": "code",
      "source": [
        "type(y)"
      ],
      "metadata": {
        "colab": {
          "base_uri": "https://localhost:8080/"
        },
        "id": "YF5VkKk19Oh4",
        "outputId": "24348222-ff9c-4860-9ae6-b7430d891728"
      },
      "execution_count": null,
      "outputs": [
        {
          "output_type": "execute_result",
          "data": {
            "text/plain": [
              "float"
            ]
          },
          "metadata": {},
          "execution_count": 21
        }
      ]
    },
    {
      "cell_type": "code",
      "source": [
        "type(z)"
      ],
      "metadata": {
        "colab": {
          "base_uri": "https://localhost:8080/"
        },
        "id": "dfa2zz879R1x",
        "outputId": "1ef41fa5-5ba4-4cea-dded-639eefb56cf0"
      },
      "execution_count": null,
      "outputs": [
        {
          "output_type": "execute_result",
          "data": {
            "text/plain": [
              "str"
            ]
          },
          "metadata": {},
          "execution_count": 22
        }
      ]
    },
    {
      "cell_type": "code",
      "source": [
        "float(x) #transformando o número"
      ],
      "metadata": {
        "colab": {
          "base_uri": "https://localhost:8080/"
        },
        "id": "dVxlctuG9cLi",
        "outputId": "5c0729b9-f0e7-4401-fa00-f9fd2422ad5c"
      },
      "execution_count": null,
      "outputs": [
        {
          "output_type": "execute_result",
          "data": {
            "text/plain": [
              "3.0"
            ]
          },
          "metadata": {},
          "execution_count": 23
        }
      ]
    },
    {
      "cell_type": "code",
      "source": [
        "float(z) #transformando o z é número real"
      ],
      "metadata": {
        "colab": {
          "base_uri": "https://localhost:8080/"
        },
        "id": "CN5aWV9B9g3q",
        "outputId": "7e22236d-3c4b-49af-edbc-f4f9597e7f55"
      },
      "execution_count": null,
      "outputs": [
        {
          "output_type": "execute_result",
          "data": {
            "text/plain": [
              "456.0"
            ]
          },
          "metadata": {},
          "execution_count": 24
        }
      ]
    },
    {
      "cell_type": "code",
      "source": [
        "int(y) #transformando o inteiro em real"
      ],
      "metadata": {
        "colab": {
          "base_uri": "https://localhost:8080/"
        },
        "id": "yMKgGCFN9upi",
        "outputId": "6b2f2e89-1e86-4e2d-f3bf-c814f1ed812d"
      },
      "execution_count": null,
      "outputs": [
        {
          "output_type": "execute_result",
          "data": {
            "text/plain": [
              "5"
            ]
          },
          "metadata": {},
          "execution_count": 26
        }
      ]
    },
    {
      "cell_type": "code",
      "source": [],
      "metadata": {
        "id": "yUq01Rt6KsAm"
      },
      "execution_count": null,
      "outputs": []
    },
    {
      "cell_type": "code",
      "source": [
        "float(\"tomate\") #vai dar erro por mudar o número pra texto"
      ],
      "metadata": {
        "colab": {
          "base_uri": "https://localhost:8080/",
          "height": 141
        },
        "id": "94p1zYL1986y",
        "outputId": "e54a4346-c024-4d92-e754-948a2c690662"
      },
      "execution_count": null,
      "outputs": [
        {
          "output_type": "error",
          "ename": "ValueError",
          "evalue": "could not convert string to float: 'tomate'",
          "traceback": [
            "\u001b[0;31m---------------------------------------------------------------------------\u001b[0m",
            "\u001b[0;31mValueError\u001b[0m                                Traceback (most recent call last)",
            "\u001b[0;32m<ipython-input-27-1e36d88ad45f>\u001b[0m in \u001b[0;36m<cell line: 1>\u001b[0;34m()\u001b[0m\n\u001b[0;32m----> 1\u001b[0;31m \u001b[0mfloat\u001b[0m\u001b[0;34m(\u001b[0m\u001b[0;34m\"tomate\"\u001b[0m\u001b[0;34m)\u001b[0m\u001b[0;34m\u001b[0m\u001b[0;34m\u001b[0m\u001b[0m\n\u001b[0m",
            "\u001b[0;31mValueError\u001b[0m: could not convert string to float: 'tomate'"
          ]
        }
      ]
    },
    {
      "cell_type": "code",
      "source": [
        "#Meu primeiro programa Python"
      ],
      "metadata": {
        "id": "-PDULVBw-LJK"
      },
      "execution_count": null,
      "outputs": []
    },
    {
      "cell_type": "code",
      "source": [
        "print(\"Entre com o seu nome \")\n",
        "nome = input()\n",
        "print(\"Olá \", nome, \", Boa noite!\")"
      ],
      "metadata": {
        "colab": {
          "base_uri": "https://localhost:8080/"
        },
        "id": "wJL0cWrk-4oU",
        "outputId": "84fd54f2-5833-41a7-d540-0943920478c7"
      },
      "execution_count": null,
      "outputs": [
        {
          "output_type": "stream",
          "name": "stdout",
          "text": [
            "Entre com o seu nome \n",
            "Luria\n",
            "Olá  Luria , Boa noite!\n"
          ]
        }
      ]
    },
    {
      "cell_type": "markdown",
      "source": [
        "#Programa para calcular média aritmética"
      ],
      "metadata": {
        "id": "zkhP4EvvD7V5"
      }
    },
    {
      "cell_type": "code",
      "source": [
        "valor1 = float(input(\"Digite o primeiro valor. \"))\n",
        "valor2 = float(input(\"Digite o segundo valor. \"))\n",
        "valor3 = float(input(\"Digite o terceiro valor. \"))\n"
      ],
      "metadata": {
        "colab": {
          "base_uri": "https://localhost:8080/"
        },
        "id": "4ukJSjkkCzxZ",
        "outputId": "9b770861-25d4-4829-e01b-5a2bd37913f7"
      },
      "execution_count": null,
      "outputs": [
        {
          "name": "stdout",
          "output_type": "stream",
          "text": [
            "Digite o primeiro valor. 2.0\n",
            "Digite o segundo valor. 8.5\n",
            "Digite o terceiro valor. 10.0\n"
          ]
        }
      ]
    },
    {
      "cell_type": "code",
      "source": [
        "media = round((valor1 + valor2 + valor3) / 3,2) #Para estabelecer o número de casas decimais para o valor calculado da média utiliza-se a função round()\n",
        "print(\"A média é: \", media)"
      ],
      "metadata": {
        "colab": {
          "base_uri": "https://localhost:8080/"
        },
        "id": "l6S8w_5UGMtx",
        "outputId": "97f60f22-d80c-4b0f-ad4b-b81589cf78ad"
      },
      "execution_count": null,
      "outputs": [
        {
          "output_type": "stream",
          "name": "stdout",
          "text": [
            "A média é:  6.83\n"
          ]
        }
      ]
    },
    {
      "cell_type": "code",
      "source": [
        "#Zeros à esquerda\n",
        "x = int('002')\n",
        "print(x)"
      ],
      "metadata": {
        "colab": {
          "base_uri": "https://localhost:8080/"
        },
        "id": "WLAx_btMLg5y",
        "outputId": "b76ca253-6625-45ae-b0c7-6bdcebc68949"
      },
      "execution_count": null,
      "outputs": [
        {
          "output_type": "stream",
          "name": "stdout",
          "text": [
            "2\n"
          ]
        }
      ]
    },
    {
      "cell_type": "code",
      "source": [
        "y = float('004.3')\n",
        "print(y)"
      ],
      "metadata": {
        "colab": {
          "base_uri": "https://localhost:8080/"
        },
        "id": "Ur8ZwAOnLyfg",
        "outputId": "b72e83ba-70b2-4182-b72c-a3003a5f43d7"
      },
      "execution_count": null,
      "outputs": [
        {
          "output_type": "stream",
          "name": "stdout",
          "text": [
            "4.3\n"
          ]
        }
      ]
    },
    {
      "cell_type": "markdown",
      "source": [
        "#Segunda aula - 27.03.2024"
      ],
      "metadata": {
        "id": "llDvWzcLJqG6"
      }
    },
    {
      "cell_type": "code",
      "source": [
        "#O meu primeiro programa\n",
        "\n",
        "mensagem = 'Alô Mundo!'\n",
        "print(mensagem)"
      ],
      "metadata": {
        "colab": {
          "base_uri": "https://localhost:8080/"
        },
        "id": "rL77Qt1DMUCU",
        "outputId": "c1f9fa73-c718-46c7-ff50-019cb4d0c34f"
      },
      "execution_count": null,
      "outputs": [
        {
          "output_type": "stream",
          "name": "stdout",
          "text": [
            "Alô Mundo!\n"
          ]
        }
      ]
    },
    {
      "cell_type": "code",
      "source": [
        "A = 3\n",
        "a = 4.5\n",
        "Aa = 'quatro'\n",
        "aA = 2/4\n",
        "(A,a,Aa,aA)"
      ],
      "metadata": {
        "colab": {
          "base_uri": "https://localhost:8080/"
        },
        "id": "GfI9cJIwMXRx",
        "outputId": "7a64daf7-a464-4155-e837-12b42001cec0"
      },
      "execution_count": null,
      "outputs": [
        {
          "output_type": "execute_result",
          "data": {
            "text/plain": [
              "(3, 4.5, 'quatro', 0.5)"
            ]
          },
          "metadata": {},
          "execution_count": 5
        }
      ]
    },
    {
      "cell_type": "code",
      "source": [
        "3*5-1+6"
      ],
      "metadata": {
        "colab": {
          "base_uri": "https://localhost:8080/"
        },
        "id": "o7F3b44JMcTo",
        "outputId": "f8f9fd9c-a558-4bee-dc25-a607f57193e2"
      },
      "execution_count": null,
      "outputs": [
        {
          "output_type": "execute_result",
          "data": {
            "text/plain": [
              "20"
            ]
          },
          "metadata": {},
          "execution_count": 6
        }
      ]
    },
    {
      "cell_type": "markdown",
      "source": [
        "#Operadores lógicos"
      ],
      "metadata": {
        "id": "sh09HYOKMiV8"
      }
    },
    {
      "cell_type": "code",
      "source": [
        "3>5 or 4<6\n",
        "3>5 and 4<6\n",
        "not(3>5)"
      ],
      "metadata": {
        "colab": {
          "base_uri": "https://localhost:8080/"
        },
        "id": "7QRqCuGAMm_l",
        "outputId": "6cf806c8-6c5e-4d2e-fb40-9da346e296b3"
      },
      "execution_count": null,
      "outputs": [
        {
          "output_type": "execute_result",
          "data": {
            "text/plain": [
              "True"
            ]
          },
          "metadata": {},
          "execution_count": 7
        }
      ]
    },
    {
      "cell_type": "markdown",
      "source": [
        "#Comentários\n",
        "\n",
        "*   #jogo da velha\n",
        "*   três aspas simples: mais de uma linha\n",
        "*   três aspas duplas: mesma que o simples\n"
      ],
      "metadata": {
        "id": "m6Yd_e1wMpxN"
      }
    },
    {
      "cell_type": "markdown",
      "source": [
        "#trocando valores de posição\n",
        "\n",
        "*   aux = x\n",
        "*   x = y\n",
        "*   y = aux"
      ],
      "metadata": {
        "id": "Tng2piunNAd9"
      }
    },
    {
      "cell_type": "code",
      "source": [
        "x=3\n",
        "y=7\n",
        "aux=x\n",
        "x=y\n",
        "y"
      ],
      "metadata": {
        "colab": {
          "base_uri": "https://localhost:8080/"
        },
        "id": "H9NKLuCONS-5",
        "outputId": "ccfd15d3-c458-49c9-e6f6-4ae49379a644"
      },
      "execution_count": null,
      "outputs": [
        {
          "output_type": "execute_result",
          "data": {
            "text/plain": [
              "7"
            ]
          },
          "metadata": {},
          "execution_count": 8
        }
      ]
    },
    {
      "cell_type": "code",
      "source": [
        "y=aux\n",
        "y"
      ],
      "metadata": {
        "colab": {
          "base_uri": "https://localhost:8080/"
        },
        "id": "M237jhk3NVec",
        "outputId": "683ba7e8-a1f8-41bf-9506-4c118e089cbf"
      },
      "execution_count": null,
      "outputs": [
        {
          "output_type": "execute_result",
          "data": {
            "text/plain": [
              "3"
            ]
          },
          "metadata": {},
          "execution_count": 9
        }
      ]
    },
    {
      "cell_type": "code",
      "source": [
        "#trocando valores\n",
        "x = int(input(\"Entre com o valor de x: \"))\n",
        "y = int(input(\"Entre com o valor de y: \"))\n",
        "\n",
        "aux = x\n",
        "x = y\n",
        "y = aux\n",
        "\n",
        "print(\"Trocando de valores...\")\n",
        "print(\"O valor de x é: \", x)\n",
        "print(\"O valor de y é: \", y)\n",
        "print(\"Fim\")"
      ],
      "metadata": {
        "colab": {
          "base_uri": "https://localhost:8080/"
        },
        "id": "34Y8Y9ynNW9_",
        "outputId": "a141ba43-ae6e-425b-c8b6-f80babc3634e"
      },
      "execution_count": null,
      "outputs": [
        {
          "output_type": "stream",
          "name": "stdout",
          "text": [
            "Entre com o valor de x: 2\n",
            "Entre com o valor de y: 4\n",
            "Trocando de valores...\n",
            "O valor de x é:  4\n",
            "O valor de y é:  2\n",
            "Fim\n"
          ]
        }
      ]
    },
    {
      "cell_type": "markdown",
      "source": [
        "#Terceira aula - 10.04.2024"
      ],
      "metadata": {
        "id": "McPKj9VcJ0UH"
      }
    },
    {
      "cell_type": "code",
      "source": [
        "#função para somar dois números\n",
        "def soma(x,y):\n",
        "    z = x + y\n",
        "    return z"
      ],
      "metadata": {
        "id": "zcyX5uv6l8uW"
      },
      "execution_count": null,
      "outputs": []
    },
    {
      "cell_type": "code",
      "source": [
        "soma(4,5)"
      ],
      "metadata": {
        "colab": {
          "base_uri": "https://localhost:8080/"
        },
        "id": "bHrgCaE_mDM1",
        "outputId": "aaf1d4bb-f34c-4666-ca5c-0dd7bebb9a86"
      },
      "execution_count": null,
      "outputs": [
        {
          "output_type": "execute_result",
          "data": {
            "text/plain": [
              "9"
            ]
          },
          "metadata": {},
          "execution_count": 12
        }
      ]
    },
    {
      "cell_type": "code",
      "source": [
        "def epar(x):\n",
        "  if (x%2==0):\n",
        "    R = \"é par\"\n",
        "  else:\n",
        "    R = \"não é par\"\n",
        "  return R"
      ],
      "metadata": {
        "id": "oyWm9mbKmIkX"
      },
      "execution_count": null,
      "outputs": []
    },
    {
      "cell_type": "code",
      "source": [
        "epar(6)"
      ],
      "metadata": {
        "colab": {
          "base_uri": "https://localhost:8080/",
          "height": 35
        },
        "id": "Y-nkygkemj_O",
        "outputId": "fdc10ccc-b5bf-49fa-8d17-ab844106e9d9"
      },
      "execution_count": null,
      "outputs": [
        {
          "output_type": "execute_result",
          "data": {
            "text/plain": [
              "'é par'"
            ],
            "application/vnd.google.colaboratory.intrinsic+json": {
              "type": "string"
            }
          },
          "metadata": {},
          "execution_count": 21
        }
      ]
    },
    {
      "cell_type": "code",
      "source": [
        "epar(5)"
      ],
      "metadata": {
        "colab": {
          "base_uri": "https://localhost:8080/",
          "height": 35
        },
        "id": "QapilpJEmnlw",
        "outputId": "61639973-d1a5-412c-96f6-9ddd6ceddfa8"
      },
      "execution_count": null,
      "outputs": [
        {
          "output_type": "execute_result",
          "data": {
            "text/plain": [
              "'não é par'"
            ],
            "application/vnd.google.colaboratory.intrinsic+json": {
              "type": "string"
            }
          },
          "metadata": {},
          "execution_count": 22
        }
      ]
    },
    {
      "cell_type": "code",
      "source": [
        "def par_impar(x):\n",
        "  if x % 2 == 0:\n",
        "    print(x, \"é par\")\n",
        "  else:\n",
        "    print(x, \"é impar\")\n",
        "\n",
        "par_impar(2)\n",
        "par_impar(3)\n",
        "par_impar(4)"
      ],
      "metadata": {
        "colab": {
          "base_uri": "https://localhost:8080/"
        },
        "id": "Vvx1_RCcmM_r",
        "outputId": "1dcc1e64-c204-421b-fa1b-2b0ee97fc747"
      },
      "execution_count": null,
      "outputs": [
        {
          "output_type": "stream",
          "name": "stdout",
          "text": [
            "2 é par\n",
            "3 é impar\n",
            "4 é par\n"
          ]
        }
      ]
    },
    {
      "cell_type": "code",
      "source": [
        "def maior(x,y):\n",
        "  if (x > y):\n",
        "    print(x, \"é maior\")\n",
        "    #return x\n",
        "  else:\n",
        "    print(y, \"é maior\")\n",
        "    #return y"
      ],
      "metadata": {
        "id": "FAAWcoBCmQM4"
      },
      "execution_count": null,
      "outputs": []
    },
    {
      "cell_type": "code",
      "source": [
        "maior(4,3)\n",
        "maior(7,3)\n",
        "maior(2,2)\n",
        "maior(5,2)"
      ],
      "metadata": {
        "colab": {
          "base_uri": "https://localhost:8080/"
        },
        "id": "DuhGQ8TamTVk",
        "outputId": "a346de0f-9926-478e-cda8-51b9ad50c01b"
      },
      "execution_count": null,
      "outputs": [
        {
          "output_type": "stream",
          "name": "stdout",
          "text": [
            "4 é maior\n",
            "7 é maior\n",
            "2 é maior\n",
            "5 é maior\n"
          ]
        }
      ]
    },
    {
      "cell_type": "code",
      "source": [
        "def maior_maior(x,y,z):\n",
        "  aux = x\n",
        "  if (x > aux):\n",
        "    x = y\n",
        "  if (z > aux):\n",
        "    y = aux"
      ],
      "metadata": {
        "id": "PA_LJkhDmV_U"
      },
      "execution_count": null,
      "outputs": []
    },
    {
      "cell_type": "code",
      "source": [
        "print(maior_maior(2,4,7), \"é maior\")"
      ],
      "metadata": {
        "colab": {
          "base_uri": "https://localhost:8080/"
        },
        "id": "eSTjg__6mYxn",
        "outputId": "2c7d90bd-545b-4724-a651-feb7ace77e58"
      },
      "execution_count": null,
      "outputs": [
        {
          "output_type": "stream",
          "name": "stdout",
          "text": [
            "None é maior\n"
          ]
        }
      ]
    },
    {
      "cell_type": "code",
      "source": [
        "def maior_maior(x,y,z):\n",
        "  aux = x\n",
        "  if (y > aux):\n",
        "    aux = y\n",
        "  if (z > aux):\n",
        "    aux = z\n",
        "  return(\"O maior é:\", aux)"
      ],
      "metadata": {
        "id": "mms1PBdlmb5a"
      },
      "execution_count": null,
      "outputs": []
    },
    {
      "cell_type": "code",
      "source": [
        "maior_maior(2,3,7)"
      ],
      "metadata": {
        "colab": {
          "base_uri": "https://localhost:8080/"
        },
        "id": "CcTId2WvmeRz",
        "outputId": "56cb6fb0-32e6-42da-8f4d-6de3cc57f51f"
      },
      "execution_count": null,
      "outputs": [
        {
          "output_type": "execute_result",
          "data": {
            "text/plain": [
              "('O maior é:', 7)"
            ]
          },
          "metadata": {},
          "execution_count": 20
        }
      ]
    },
    {
      "cell_type": "markdown",
      "source": [
        "#Quarta aula - 17.04. 2024"
      ],
      "metadata": {
        "id": "ktaxoQXPKAI4"
      }
    },
    {
      "cell_type": "code",
      "source": [
        "num = int(input(\"Digite um valor: \"))\n",
        "if num > 0:\n",
        "  print(\"é maior que 0\")\n",
        "if num <= 0:\n",
        "  print(\"número inválido\")"
      ],
      "metadata": {
        "colab": {
          "base_uri": "https://localhost:8080/"
        },
        "id": "1BZONT9LnB2j",
        "outputId": "afabadd5-a62d-4521-c4cf-aba336ecb15e"
      },
      "execution_count": null,
      "outputs": [
        {
          "output_type": "stream",
          "name": "stdout",
          "text": [
            "Digite um valor: 2\n",
            "é maior que 0\n"
          ]
        }
      ]
    },
    {
      "cell_type": "code",
      "source": [
        "nota = float(input(\"Digite uma nota: \"))\n",
        "if (nota >= 6.0):\n",
        "  print(\"Aprovado\")\n",
        "else:\n",
        "  print(\"Reprovado\")"
      ],
      "metadata": {
        "colab": {
          "base_uri": "https://localhost:8080/"
        },
        "id": "QseVy7S7nEx0",
        "outputId": "77a7cfc6-e0c4-490b-e6d5-5b060dc110e4"
      },
      "execution_count": null,
      "outputs": [
        {
          "output_type": "stream",
          "name": "stdout",
          "text": [
            "Digite uma nota: 4\n",
            "Reprovado\n"
          ]
        }
      ]
    },
    {
      "cell_type": "code",
      "source": [
        "def maior_maior(x,y):\n",
        "  aux = x\n",
        "  if (y > aux):\n",
        "      aux = y\n",
        "  if (z > aux):\n",
        "      aux = z\n",
        "  else:\n",
        "    return(\"O maior é:\", aux)"
      ],
      "metadata": {
        "id": "YF-UOi1_nIkA"
      },
      "execution_count": null,
      "outputs": []
    },
    {
      "cell_type": "code",
      "source": [
        "a = int(input(\"Digite primeiro num: \"))\n",
        "b = int(input(\"Digite segundo num: \"))\n",
        "if (a > b):\n",
        "  print(\"O primeiro é maior\")\n",
        "else:\n",
        "  if (a < b):\n",
        "    print(\"O segundo é maior\")\n",
        "  else:\n",
        "    print(\"Números iguais\")"
      ],
      "metadata": {
        "id": "H40euNDknQBh"
      },
      "execution_count": null,
      "outputs": []
    },
    {
      "cell_type": "code",
      "source": [
        "a = int(input(\"Digite primeiro num: \"))\n",
        "b = int(input(\"Digite segundo num: \"))\n",
        "c = int(input(\"Digite terceiro num: \"))\n",
        "\n",
        "menor = a\n",
        "maior = a\n",
        "\n",
        "if menor >= b:\n",
        "  menor = b\n",
        "if menor >= c:\n",
        "  menor = c\n",
        "if maior <= b:\n",
        "  maior = b\n",
        "if maior <= c:\n",
        "  maior = c\n",
        "\n",
        "print(\"O menor é:\",menor, \"e o maior é:\", maior)"
      ],
      "metadata": {
        "id": "0SMuCL6enSqb"
      },
      "execution_count": null,
      "outputs": []
    },
    {
      "cell_type": "markdown",
      "source": [
        "#Quinta aula - 24.04. 2024"
      ],
      "metadata": {
        "id": "CmXZx60bDare"
      }
    },
    {
      "cell_type": "markdown",
      "source": [
        "#elif é uma abreviação de \"else if\""
      ],
      "metadata": {
        "id": "0wYlVVMhDjsf"
      }
    },
    {
      "cell_type": "code",
      "source": [
        "age = int(input(\"Digite a idade: \"))\n",
        "if(age <= 3):\n",
        "  classific = \"Infantil I\"\n",
        "elif(3 < age <= 6):\n",
        "   classific = \"Infantil II\"\n",
        "elif(6 < age <= 8):\n",
        "   classific = \"Infantil III\"\n",
        "elif(8 < age <= 11):\n",
        "   classific = \"Juvenil I\"\n",
        "elif(11 < age <= 14):\n",
        "   classific = \"Juvenil II\"\n",
        "elif(14 < age <= 18):\n",
        "   classific = \"Juvenil III\"\n",
        "elif(18 < age <= 50):\n",
        "   classific = \"Adulto\"\n",
        "elif(age >= 110):\n",
        "    classific = \"Idade inválida\"\n",
        "else:\n",
        "   classific = \"Sênior\"\n",
        "print(\"O aluno com \", age, \" anos, está classificado como\", classific)"
      ],
      "metadata": {
        "colab": {
          "base_uri": "https://localhost:8080/"
        },
        "id": "kIJAw9hqDjav",
        "outputId": "72eb9734-5705-4e87-9669-7c8c01f4dd82"
      },
      "execution_count": null,
      "outputs": [
        {
          "output_type": "stream",
          "name": "stdout",
          "text": [
            "Digite a idade: 101\n",
            "O aluno com  101  anos, está classificado como Idade inválida\n"
          ]
        }
      ]
    },
    {
      "cell_type": "code",
      "source": [
        "num = int(input(\"Digite um número: \"))\n",
        "if(num > 0):\n",
        "  n = \"positivo\"\n",
        "elif(num < 0):\n",
        "   n = \"negativo\"\n",
        "else:\n",
        "   n = \"nulo\"\n",
        "print(\"O número\", num, \"é\", n)"
      ],
      "metadata": {
        "colab": {
          "base_uri": "https://localhost:8080/"
        },
        "id": "HkIZdhORDfQJ",
        "outputId": "564624a7-b612-49f8-ebca-0984b5292ccd"
      },
      "execution_count": null,
      "outputs": [
        {
          "output_type": "stream",
          "name": "stdout",
          "text": [
            "Digite um número: 0\n",
            "O número 0 é nulo\n"
          ]
        }
      ]
    },
    {
      "cell_type": "code",
      "source": [
        "num = int(input(\"Digite um número: \"))\n",
        "if(num > 0):\n",
        "  n = \"positivo\"\n",
        "elif(num == 0):\n",
        "   n = \"nulo\"\n",
        "else:\n",
        "   n = \"negativo\"\n",
        "print(\"O número\", num, \"é\", n)"
      ],
      "metadata": {
        "colab": {
          "base_uri": "https://localhost:8080/"
        },
        "id": "Xk_QtQ6YOxfZ",
        "outputId": "3a0823b2-3500-4ae4-beaf-170a891eedcf"
      },
      "execution_count": null,
      "outputs": [
        {
          "output_type": "stream",
          "name": "stdout",
          "text": [
            "Digite um número: -8\n",
            "O número -8 é negativo\n"
          ]
        }
      ]
    },
    {
      "cell_type": "code",
      "source": [
        "ano = int(input('Digite o ano: '))\n",
        "if (ano % 4 == 0 and ano % 100 != 0) or (ano % 400 == 0):\n",
        "    print(\"O ano\", ano, \"é Bissexto\")\n",
        "else:\n",
        "    print(\"O ano\", ano, \"NÃO é bissexto\")"
      ],
      "metadata": {
        "colab": {
          "base_uri": "https://localhost:8080/"
        },
        "id": "gLL5bwnPPFgS",
        "outputId": "88d1b321-e518-4e60-b478-c8d7df09dcdc"
      },
      "execution_count": null,
      "outputs": [
        {
          "output_type": "stream",
          "name": "stdout",
          "text": [
            "Digite o ano: 2020\n",
            "O ano 2020  é Bissexto\n"
          ]
        }
      ]
    },
    {
      "cell_type": "markdown",
      "source": [
        "Escreva um programa para ler um valor e escrever o seu antecessor"
      ],
      "metadata": {
        "id": "APsbCpCfP6DT"
      }
    },
    {
      "cell_type": "code",
      "source": [
        "valor = int(input('Digite um numero: '))\n",
        "antecessor = valor - 1\n",
        "print(\"O antecessor do número\", n, \"é:\", antecessor)"
      ],
      "metadata": {
        "colab": {
          "base_uri": "https://localhost:8080/"
        },
        "id": "VImHB0PUQG1a",
        "outputId": "dae3a866-4dec-4302-9427-90614567f071"
      },
      "execution_count": null,
      "outputs": [
        {
          "output_type": "stream",
          "name": "stdout",
          "text": [
            "Digite um numero: -3\n",
            "O antecessor do número -3 é: -4\n"
          ]
        }
      ]
    },
    {
      "cell_type": "markdown",
      "source": [
        "*   Leia a idade de uma pessoa expressa em anos, meses e dias.\n",
        "*   Escreva a idade dessa pessoa expressa em apenas dias.\n",
        "*   Considerar o ano com 365 dias e mês com 30 dias."
      ],
      "metadata": {
        "id": "8nC_Sge5StOh"
      }
    },
    {
      "cell_type": "code",
      "source": [
        "from datetime import date"
      ],
      "metadata": {
        "id": "bZVw8QCLVF4d"
      },
      "execution_count": null,
      "outputs": []
    },
    {
      "cell_type": "code",
      "source": [
        "ano_idade = int(input(\"Digite o ano que você nasceu: \"))\n",
        "mes_idade = int(input(\"Digite o número do mês que você nasceu: \"))\n",
        "dia_idade = int(input(\"Digite o dia que você nasceu: \"))\n",
        "\n",
        "calcule_idade = ((365 * ano_idade) + (30 * mes_idade) + dia_idade)\n",
        "print(\"Idade total em dias: \", calcule_idade)"
      ],
      "metadata": {
        "colab": {
          "base_uri": "https://localhost:8080/"
        },
        "id": "xa-lH9ejTLOo",
        "outputId": "e630d731-8454-4fd6-ee97-f7db028655e8"
      },
      "execution_count": null,
      "outputs": [
        {
          "output_type": "stream",
          "name": "stdout",
          "text": [
            "Digite o ano que você nasceu: 1990\n",
            "Digite o número do mês que você nasceu: 12\n",
            "Digite o dia que você nasceu: 2\n",
            "Idade total em dias:  726712\n"
          ]
        }
      ]
    }
  ]
}